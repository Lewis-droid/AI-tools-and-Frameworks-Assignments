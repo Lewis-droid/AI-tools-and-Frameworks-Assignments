{
 "cells": [
  {
   "cell_type": "code",
   "execution_count": null,
   "id": "9ea4cac1",
   "metadata": {},
   "outputs": [
    {
     "name": "stdout",
     "output_type": "stream",
     "text": [
      "Defaulting to user installation because normal site-packages is not writeable\n",
      "Requirement already satisfied: spacy in /home/lennoxlewis/.local/lib/python3.13/site-packages (3.8.7)\n",
      "Requirement already satisfied: pandas in /home/lennoxlewis/.local/lib/python3.13/site-packages (2.3.2)\n",
      "Requirement already satisfied: tqdm in /home/lennoxlewis/.local/lib/python3.13/site-packages (4.67.1)\n",
      "Requirement already satisfied: spacy-legacy<3.1.0,>=3.0.11 in /home/lennoxlewis/.local/lib/python3.13/site-packages (from spacy) (3.0.12)\n",
      "Requirement already satisfied: spacy-loggers<2.0.0,>=1.0.0 in /home/lennoxlewis/.local/lib/python3.13/site-packages (from spacy) (1.0.5)\n",
      "Requirement already satisfied: murmurhash<1.1.0,>=0.28.0 in /home/lennoxlewis/.local/lib/python3.13/site-packages (from spacy) (1.0.13)\n",
      "Requirement already satisfied: cymem<2.1.0,>=2.0.2 in /home/lennoxlewis/.local/lib/python3.13/site-packages (from spacy) (2.0.11)\n",
      "Requirement already satisfied: preshed<3.1.0,>=3.0.2 in /home/lennoxlewis/.local/lib/python3.13/site-packages (from spacy) (3.0.10)\n",
      "Requirement already satisfied: thinc<8.4.0,>=8.3.4 in /home/lennoxlewis/.local/lib/python3.13/site-packages (from spacy) (8.3.6)\n",
      "Requirement already satisfied: wasabi<1.2.0,>=0.9.1 in /home/lennoxlewis/.local/lib/python3.13/site-packages (from spacy) (1.1.3)\n",
      "Requirement already satisfied: srsly<3.0.0,>=2.4.3 in /home/lennoxlewis/.local/lib/python3.13/site-packages (from spacy) (2.5.1)\n",
      "Requirement already satisfied: catalogue<2.1.0,>=2.0.6 in /home/lennoxlewis/.local/lib/python3.13/site-packages (from spacy) (2.0.10)\n",
      "Requirement already satisfied: weasel<0.5.0,>=0.1.0 in /home/lennoxlewis/.local/lib/python3.13/site-packages (from spacy) (0.4.1)\n",
      "Requirement already satisfied: typer<1.0.0,>=0.3.0 in /home/lennoxlewis/.local/lib/python3.13/site-packages (from spacy) (0.19.2)\n",
      "Requirement already satisfied: numpy>=1.19.0 in /home/lennoxlewis/.local/lib/python3.13/site-packages (from spacy) (2.3.2)\n",
      "Requirement already satisfied: requests<3.0.0,>=2.13.0 in /usr/lib/python3.13/site-packages (from spacy) (2.32.4)\n",
      "Requirement already satisfied: pydantic!=1.8,!=1.8.1,<3.0.0,>=1.7.4 in /home/lennoxlewis/.local/lib/python3.13/site-packages (from spacy) (2.11.9)\n",
      "Requirement already satisfied: jinja2 in /home/lennoxlewis/.local/lib/python3.13/site-packages (from spacy) (3.1.6)\n",
      "Requirement already satisfied: setuptools in /usr/lib/python3.13/site-packages (from spacy) (74.1.3)\n",
      "Requirement already satisfied: packaging>=20.0 in /usr/lib/python3.13/site-packages (from spacy) (24.2)\n",
      "Requirement already satisfied: langcodes<4.0.0,>=3.2.0 in /home/lennoxlewis/.local/lib/python3.13/site-packages (from spacy) (3.5.0)\n",
      "Requirement already satisfied: python-dateutil>=2.8.2 in /usr/lib/python3.13/site-packages (from pandas) (2.8.2)\n",
      "Requirement already satisfied: pytz>=2020.1 in /home/lennoxlewis/.local/lib/python3.13/site-packages (from pandas) (2025.2)\n",
      "Requirement already satisfied: tzdata>=2022.7 in /home/lennoxlewis/.local/lib/python3.13/site-packages (from pandas) (2025.2)\n",
      "Requirement already satisfied: language-data>=1.2 in /home/lennoxlewis/.local/lib/python3.13/site-packages (from langcodes<4.0.0,>=3.2.0->spacy) (1.3.0)\n",
      "Requirement already satisfied: annotated-types>=0.6.0 in /home/lennoxlewis/.local/lib/python3.13/site-packages (from pydantic!=1.8,!=1.8.1,<3.0.0,>=1.7.4->spacy) (0.7.0)\n",
      "Requirement already satisfied: pydantic-core==2.33.2 in /home/lennoxlewis/.local/lib/python3.13/site-packages (from pydantic!=1.8,!=1.8.1,<3.0.0,>=1.7.4->spacy) (2.33.2)\n",
      "Requirement already satisfied: typing-extensions>=4.12.2 in /usr/lib/python3.13/site-packages (from pydantic!=1.8,!=1.8.1,<3.0.0,>=1.7.4->spacy) (4.12.2)\n",
      "Requirement already satisfied: typing-inspection>=0.4.0 in /home/lennoxlewis/.local/lib/python3.13/site-packages (from pydantic!=1.8,!=1.8.1,<3.0.0,>=1.7.4->spacy) (0.4.1)\n",
      "Requirement already satisfied: six>=1.5 in /usr/lib/python3.13/site-packages (from python-dateutil>=2.8.2->pandas) (1.17.0)\n",
      "Requirement already satisfied: charset-normalizer<4,>=2 in /usr/lib/python3.13/site-packages (from requests<3.0.0,>=2.13.0->spacy) (3.4.1)\n",
      "Requirement already satisfied: idna<4,>=2.5 in /usr/lib/python3.13/site-packages (from requests<3.0.0,>=2.13.0->spacy) (3.10)\n",
      "Requirement already satisfied: urllib3<3,>=1.21.1 in /usr/lib/python3.13/site-packages (from requests<3.0.0,>=2.13.0->spacy) (2.3.0)\n",
      "Requirement already satisfied: blis<1.4.0,>=1.3.0 in /home/lennoxlewis/.local/lib/python3.13/site-packages (from thinc<8.4.0,>=8.3.4->spacy) (1.3.0)\n",
      "Requirement already satisfied: confection<1.0.0,>=0.0.1 in /home/lennoxlewis/.local/lib/python3.13/site-packages (from thinc<8.4.0,>=8.3.4->spacy) (0.1.5)\n",
      "Requirement already satisfied: click>=8.0.0 in /usr/lib/python3.13/site-packages (from typer<1.0.0,>=0.3.0->spacy) (8.1.7)\n",
      "Requirement already satisfied: shellingham>=1.3.0 in /home/lennoxlewis/.local/lib/python3.13/site-packages (from typer<1.0.0,>=0.3.0->spacy) (1.5.4)\n",
      "Requirement already satisfied: rich>=10.11.0 in /home/lennoxlewis/.local/lib/python3.13/site-packages (from typer<1.0.0,>=0.3.0->spacy) (14.1.0)\n",
      "Requirement already satisfied: cloudpathlib<1.0.0,>=0.7.0 in /home/lennoxlewis/.local/lib/python3.13/site-packages (from weasel<0.5.0,>=0.1.0->spacy) (0.23.0)\n",
      "Requirement already satisfied: smart-open<8.0.0,>=5.2.1 in /home/lennoxlewis/.local/lib/python3.13/site-packages (from weasel<0.5.0,>=0.1.0->spacy) (7.3.1)\n",
      "Requirement already satisfied: MarkupSafe>=2.0 in /usr/lib64/python3.13/site-packages (from jinja2->spacy) (3.0.2)\n",
      "Requirement already satisfied: marisa-trie>=1.1.0 in /home/lennoxlewis/.local/lib/python3.13/site-packages (from language-data>=1.2->langcodes<4.0.0,>=3.2.0->spacy) (1.3.1)\n",
      "Requirement already satisfied: markdown-it-py>=2.2.0 in /home/lennoxlewis/.local/lib/python3.13/site-packages (from rich>=10.11.0->typer<1.0.0,>=0.3.0->spacy) (4.0.0)\n",
      "Requirement already satisfied: pygments<3.0.0,>=2.13.0 in /home/lennoxlewis/.local/lib/python3.13/site-packages (from rich>=10.11.0->typer<1.0.0,>=0.3.0->spacy) (2.19.2)\n",
      "Requirement already satisfied: wrapt in /home/lennoxlewis/.local/lib/python3.13/site-packages (from smart-open<8.0.0,>=5.2.1->weasel<0.5.0,>=0.1.0->spacy) (1.17.3)\n",
      "Requirement already satisfied: mdurl~=0.1 in /home/lennoxlewis/.local/lib/python3.13/site-packages (from markdown-it-py>=2.2.0->rich>=10.11.0->typer<1.0.0,>=0.3.0->spacy) (0.1.2)\n",
      "/home/lennoxlewis/.local/lib/python3.13/site-packages/torch/cuda/__init__.py:829: UserWarning: Can't initialize NVML\n",
      "  warnings.warn(\"Can't initialize NVML\")\n",
      "Defaulting to user installation because normal site-packages is not writeable\n",
      "Collecting en-core-web-sm==3.8.0\n",
      "  Downloading https://github.com/explosion/spacy-models/releases/download/en_core_web_sm-3.8.0/en_core_web_sm-3.8.0-py3-none-any.whl (12.8 MB)\n",
      "\u001b[2K     \u001b[90m━━━━━━━━━━━━━━━━━━━━━━━━━━━━━━━━━━━━━━━━\u001b[0m \u001b[32m12.8/12.8 MB\u001b[0m \u001b[31m1.4 MB/s\u001b[0m eta \u001b[36m0:00:00\u001b[0m00:01\u001b[0m00:01\u001b[0m\n",
      "\u001b[?25h\u001b[38;5;2m✔ Download and installation successful\u001b[0m\n",
      "You can now load the package via spacy.load('en_core_web_sm')\n"
     ]
    },
    {
     "name": "stderr",
     "output_type": "stream",
     "text": [
      "/home/lennoxlewis/.local/lib/python3.13/site-packages/torch/cuda/__init__.py:829: UserWarning: Can't initialize NVML\n",
      "  warnings.warn(\"Can't initialize NVML\")\n"
     ]
    }
   ],
   "source": [
    "# 📘 Task 3: NLP with spaCy – Amazon Reviews (Train + Test)\n",
    "# ================================================\n",
    "# Goal:\n",
    "# - Perform Named Entity Recognition (NER) to extract product/brand names\n",
    "# - Analyze sentiment using a simple rule-based approach\n",
    "# - Handle large train/test text datasets efficiently by loading samples\n",
    "# ================================================\n",
    "\n",
    "# STEP 1: Install dependencies\n",
    "%pip install spacy pandas tqdm\n",
    "\n",
    "# Download the English NLP model (only once)\n",
    "!python -m spacy download en_core_web_sm\n",
    "\n",
    "# STEP 2: Import modules\n",
    "import spacy\n",
    "import pandas as pd\n",
    "from tqdm import tqdm\n",
    "\n",
    "# Load spaCy model\n",
    "nlp = spacy.load(\"en_core_web_sm\")"
   ]
  },
  {
   "cell_type": "code",
   "execution_count": 2,
   "id": "3488f3e4",
   "metadata": {},
   "outputs": [
    {
     "name": "stdout",
     "output_type": "stream",
     "text": [
      "✅ Loaded 8000 lines from Data sets/train.ft.txt\n",
      "✅ Loaded 4000 lines from Data sets/test.ft.txt\n"
     ]
    }
   ],
   "source": [
    "# STEP 3: Load partial data from train/test files\n",
    "# ================================================\n",
    "train_path = \"Data sets/train.ft.txt\"\n",
    "test_path = \"Data sets/test.ft.txt\"\n",
    "\n",
    "# Number of lines to sample from each file\n",
    "sample_size = 8000  # Adjust (e.g., 5000, 10000) depending on RAM\n",
    "\n",
    "def load_sample(file_path, sample_size):\n",
    "    \"\"\"Load only a subset of a large text file.\"\"\"\n",
    "    reviews = []\n",
    "    with open(file_path, \"r\", encoding=\"utf-8\") as f:\n",
    "        for i, line in enumerate(f):\n",
    "            if i >= sample_size:\n",
    "                break\n",
    "            if line.strip():\n",
    "                reviews.append(line.strip())\n",
    "    print(f\"✅ Loaded {len(reviews)} lines from {file_path}\")\n",
    "    return reviews\n",
    "\n",
    "train_reviews = load_sample(train_path, sample_size)\n",
    "test_reviews = load_sample(test_path, int(sample_size / 2))  # smaller test sample"
   ]
  },
  {
   "cell_type": "code",
   "execution_count": 3,
   "id": "e6dcb3d1",
   "metadata": {},
   "outputs": [],
   "source": [
    "# STEP 4: Rule-Based Sentiment Analysis\n",
    "# ================================================\n",
    "positive_words = [\n",
    "    \"love\", \"great\", \"amazing\", \"good\", \"excellent\", \"happy\",\n",
    "    \"fast\", \"satisfied\", \"recommend\", \"perfect\", \"awesome\"\n",
    "]\n",
    "negative_words = [\n",
    "    \"bad\", \"terrible\", \"poor\", \"worst\", \"slow\", \"hate\",\n",
    "    \"disappointed\", \"not good\", \"dies\", \"broken\", \"sad\"\n",
    "]\n",
    "\n",
    "def get_sentiment(text):\n",
    "    text_lower = text.lower()\n",
    "    pos = sum(word in text_lower for word in positive_words)\n",
    "    neg = sum(word in text_lower for word in negative_words)\n",
    "    if pos > neg:\n",
    "        return \"Positive\"\n",
    "    elif neg > pos:\n",
    "        return \"Negative\"\n",
    "    else:\n",
    "        return \"Neutral\""
   ]
  },
  {
   "cell_type": "code",
   "execution_count": 4,
   "id": "34a1a54f",
   "metadata": {},
   "outputs": [
    {
     "name": "stderr",
     "output_type": "stream",
     "text": [
      "Processing Train Set: 100%|██████████| 8000/8000 [05:35<00:00, 23.83it/s]\n",
      "Processing Test Set: 100%|██████████| 4000/4000 [02:46<00:00, 23.98it/s]\n"
     ]
    }
   ],
   "source": [
    "# STEP 5: Function for NER + Sentiment\n",
    "# ================================================\n",
    "def analyze_reviews(reviews, dataset_name=\"Data\"):\n",
    "    results = []\n",
    "    for review in tqdm(reviews, desc=f\"Processing {dataset_name}\"):\n",
    "        doc = nlp(review)\n",
    "        entities = [ent.text for ent in doc.ents if ent.label_ in [\"PRODUCT\", \"ORG\"]]\n",
    "        sentiment = get_sentiment(review)\n",
    "        results.append({\n",
    "            \"review\": review,\n",
    "            \"entities\": entities,\n",
    "            \"sentiment\": sentiment\n",
    "        })\n",
    "    return results\n",
    "\n",
    "# Run analysis on both datasets\n",
    "train_results = analyze_reviews(train_reviews, \"Train Set\")\n",
    "test_results = analyze_reviews(test_reviews, \"Test Set\")"
   ]
  },
  {
   "cell_type": "code",
   "execution_count": 5,
   "id": "8bf809fa",
   "metadata": {},
   "outputs": [
    {
     "name": "stdout",
     "output_type": "stream",
     "text": [
      "\n",
      "🔹 SAMPLE TRAIN RESULTS:\n",
      "\n",
      "Review 1: __label__2 Stuning even for the non-gamer: This sound track was beautiful! It paints the senery in your mind so well I would recomend it even to people who hate vid. game music! I have played the game Chrono Cross but out of all of the games I have ever played it has the best music! It backs away from crude keyboarding and takes a fresher step with grate guitars and soulful orchestras. It would impress anyone who cares to listen! ^_^\n",
      "Entities: ['Chrono Cross']\n",
      "Sentiment: Negative\n",
      "======================================================================\n",
      "\n",
      "Review 2: __label__2 The best soundtrack ever to anything.: I'm reading a lot of reviews saying that this is the best 'game soundtrack' and I figured that I'd write a review to disagree a bit. This in my opinino is Yasunori Mitsuda's ultimate masterpiece. The music is timeless and I'm been listening to it for years now and its beauty simply refuses to fade.The price tag on this is pretty staggering I must say, but if you are going to buy any cd for this much money, this is the only one that I feel would be worth every penny.\n",
      "Entities: []\n",
      "Sentiment: Neutral\n",
      "======================================================================\n",
      "\n",
      "Review 3: __label__2 Amazing!: This soundtrack is my favorite music of all time, hands down. The intense sadness of \"Prisoners of Fate\" (which means all the more if you've played the game) and the hope in \"A Distant Promise\" and \"Girl who Stole the Star\" have been an important inspiration to me personally throughout my teen years. The higher energy tracks like \"Chrono Cross ~ Time's Scar~\", \"Time of the Dreamwatch\", and \"Chronomantique\" (indefinably remeniscent of Chrono Trigger) are all absolutely superb as well.This soundtrack is amazing music, probably the best of this composer's work (I haven't heard the Xenogears soundtrack, so I can't say for sure), and even if you've never played the game, it would be worth twice the price to buy it.I wish I could give it 6 stars.\n",
      "Entities: ['Time', 'Scar~']\n",
      "Sentiment: Neutral\n",
      "======================================================================\n",
      "\n",
      "🔹 SAMPLE TEST RESULTS:\n",
      "\n",
      "Review 1: __label__2 Great CD: My lovely Pat has one of the GREAT voices of her generation. I have listened to this CD for YEARS and I still LOVE IT. When I'm in a good mood it makes me feel better. A bad mood just evaporates like sugar in the rain. This CD just oozes LIFE. Vocals are jusat STUUNNING and lyrics just kill. One of life's hidden gems. This is a desert isle CD in my book. Why she never made it big is just beyond me. Everytime I play this, no matter black, white, young, old, male, female EVERYBODY says one thing \"Who was that singing ?\"\n",
      "Entities: ['GREAT', 'EVERYBODY']\n",
      "Sentiment: Positive\n",
      "======================================================================\n",
      "\n",
      "Review 2: __label__2 One of the best game music soundtracks - for a game I didn't really play: Despite the fact that I have only played a small portion of the game, the music I heard (plus the connection to Chrono Trigger which was great as well) led me to purchase the soundtrack, and it remains one of my favorite albums. There is an incredible mix of fun, epic, and emotional songs. Those sad and beautiful tracks I especially like, as there's not too many of those kinds of songs in my other video game soundtracks. I must admit that one of the songs (Life-A Distant Promise) has brought tears to my eyes on many occasions.My one complaint about this soundtrack is that they use guitar fretting effects in many of the songs, which I find distracting. But even if those weren't included I would still consider the collection worth it.\n",
      "Entities: []\n",
      "Sentiment: Neutral\n",
      "======================================================================\n",
      "\n",
      "Review 3: __label__1 Batteries died within a year ...: I bought this charger in Jul 2003 and it worked OK for a while. The design is nice and convenient. However, after about a year, the batteries would not hold a charge. Might as well just get alkaline disposables, or look elsewhere for a charger that comes with batteries that have better staying power.\n",
      "Entities: []\n",
      "Sentiment: Neutral\n",
      "======================================================================\n"
     ]
    }
   ],
   "source": [
    "# STEP 6: Display sample outputs\n",
    "# ================================================\n",
    "print(\"\\n🔹 SAMPLE TRAIN RESULTS:\")\n",
    "for i, res in enumerate(train_results[:3]):\n",
    "    print(f\"\\nReview {i+1}: {res['review']}\")\n",
    "    print(f\"Entities: {res['entities']}\")\n",
    "    print(f\"Sentiment: {res['sentiment']}\")\n",
    "    print(\"=\" * 70)\n",
    "\n",
    "print(\"\\n🔹 SAMPLE TEST RESULTS:\")\n",
    "for i, res in enumerate(test_results[:3]):\n",
    "    print(f\"\\nReview {i+1}: {res['review']}\")\n",
    "    print(f\"Entities: {res['entities']}\")\n",
    "    print(f\"Sentiment: {res['sentiment']}\")\n",
    "    print(\"=\" * 70)\n"
   ]
  },
  {
   "cell_type": "code",
   "execution_count": 6,
   "id": "32056f50",
   "metadata": {},
   "outputs": [
    {
     "name": "stdout",
     "output_type": "stream",
     "text": [
      "\n",
      "✅ Analysis complete! Files saved:\n",
      "- train_analysis_sample.csv\n",
      "- test_analysis_sample.csv\n"
     ]
    }
   ],
   "source": [
    "# STEP 7: Save outputs for report\n",
    "# ================================================\n",
    "pd.DataFrame(train_results).to_csv(\"train_analysis_sample.csv\", index=False, encoding=\"utf-8\")\n",
    "pd.DataFrame(test_results).to_csv(\"test_analysis_sample.csv\", index=False, encoding=\"utf-8\")\n",
    "\n",
    "print(\"\\n✅ Analysis complete! Files saved:\")\n",
    "print(\"- train_analysis_sample.csv\")\n",
    "print(\"- test_analysis_sample.csv\")"
   ]
  },
  {
   "cell_type": "code",
   "execution_count": null,
   "id": "0596ca54",
   "metadata": {},
   "outputs": [],
   "source": [
    "# STEP 8: Ethical Considerations(Report)\n",
    "# ================================================\n",
    "\"\"\"\n",
    "Ethical Considerations:\n",
    "- The Amazon Reviews dataset may reflect bias in product reviews, such as\n",
    "  regional language differences or sentiment imbalance across brands.\n",
    "- A rule-based sentiment system might misinterpret sarcasm or slang.\n",
    "- spaCy’s NER can misidentify entities if product names overlap with common words.\n",
    "- Tools like TensorFlow Fairness Indicators can help visualize bias across\n",
    "  product types (e.g., electronics vs. beauty items) and guide fair adjustments.\n",
    "\"\"\""
   ]
  }
 ],
 "metadata": {
  "kernelspec": {
   "display_name": "Python 3",
   "language": "python",
   "name": "python3"
  },
  "language_info": {
   "codemirror_mode": {
    "name": "ipython",
    "version": 3
   },
   "file_extension": ".py",
   "mimetype": "text/x-python",
   "name": "python",
   "nbconvert_exporter": "python",
   "pygments_lexer": "ipython3",
   "version": "3.13.7"
  }
 },
 "nbformat": 4,
 "nbformat_minor": 5
}
